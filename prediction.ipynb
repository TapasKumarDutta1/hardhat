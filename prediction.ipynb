{
  "nbformat": 4,
  "nbformat_minor": 0,
  "metadata": {
    "colab": {
      "name": "prediction.ipynb",
      "provenance": [],
      "authorship_tag": "ABX9TyM570BvrR3l95Ea+X5wErmG",
      "include_colab_link": true
    },
    "kernelspec": {
      "name": "python3",
      "display_name": "Python 3"
    },
    "language_info": {
      "name": "python"
    }
  },
  "cells": [
    {
      "cell_type": "markdown",
      "metadata": {
        "id": "view-in-github",
        "colab_type": "text"
      },
      "source": [
        "<a href=\"https://colab.research.google.com/github/greyhound101/hardhat/blob/main/prediction.ipynb\" target=\"_parent\"><img src=\"https://colab.research.google.com/assets/colab-badge.svg\" alt=\"Open In Colab\"/></a>"
      ]
    },
    {
      "cell_type": "code",
      "metadata": {
        "id": "thV1pKfhoLaX"
      },
      "source": [
        "\n",
        "import numpy as np # linear algebra\n",
        "import pandas as pd # data processing, CSV file I/O (e.g. pd.read_csv)\n",
        "\n",
        "# Input data files are available in the read-only \"../input/\" directory\n",
        "# For example, running this (by clicking run or pressing Shift+Enter) will list all files under the input directory\n",
        "from pathlib import Path\n",
        "from xml.dom.minidom import parse\n",
        "from shutil import copyfile\n",
        "import os"
      ],
      "execution_count": null,
      "outputs": []
    },
    {
      "cell_type": "code",
      "metadata": {
        "id": "0O82cvBroIuJ"
      },
      "source": [
        "df=pd.read_csv('../input/notebookd5efbec70e/predicted.csv')\n",
        "df[['XMin','XMax','YMin','YMax']]=df[['XMin','XMax','YMin','YMax']].astype('int')\n",
        "df.shape"
      ],
      "execution_count": null,
      "outputs": []
    },
    {
      "cell_type": "code",
      "metadata": {
        "id": "_nHASxrXoI0k"
      },
      "source": [
        "from tqdm import tqdm\n",
        "import cv2\n",
        "import gc\n",
        "h=[]\n",
        "w=[]\n",
        "for i in tqdm(df['ImageID'].values):\n",
        "    img=cv2.imread('../input/hasrhat-test/Images/hard_hat_workers'+str(i)+'.png')\n",
        "    h.append(img.shape[0])\n",
        "    w.append(img.shape[1])\n",
        "    del([img])\n",
        "    gc.collect()\n"
      ],
      "execution_count": null,
      "outputs": []
    },
    {
      "cell_type": "code",
      "metadata": {
        "id": "T_HZgdy53MhI",
        "colab": {
          "base_uri": "https://localhost:8080/"
        },
        "outputId": "514c2581-3034-479a-eb3a-0572c8b27f72"
      },
      "source": [
        "# df=df.drop(['LabelName'],1)\n",
        "df['heights']=h\n",
        "df['width']=w\n",
        "df['depth']=3\n",
        "df.head()"
      ],
      "execution_count": null,
      "outputs": [
        {
          "output_type": "stream",
          "text": [
            "/content/yolov5\n"
          ],
          "name": "stdout"
        }
      ]
    },
    {
      "cell_type": "code",
      "metadata": {
        "id": "rksMRVBEbAqc"
      },
      "source": [
        "df['ImageID'].nunique()"
      ],
      "execution_count": null,
      "outputs": []
    },
    {
      "cell_type": "code",
      "metadata": {
        "id": "CxSmMATc3LiF"
      },
      "source": [
        "import xml.etree.ElementTree as ET\n",
        "for id in df['ImageID'].unique():\n",
        "    tmp=df.loc[df['ImageID']==id]\n",
        "    i=tmp.index[0]\n",
        "    annotation = ET.Element('annotation')\n",
        "    ET.SubElement(annotation, 'folder').text = 'images'\n",
        "    ET.SubElement(annotation, 'filename').text = str(df['ImageID'].iloc[i])\n",
        "    ET.SubElement(annotation, 'path').text = '/home/elliot/Documents/mmdetection_object_detection_demo/data/vedai/train_images/'\n",
        "    source = ET.SubElement(annotation, 'source')\n",
        "    ET.SubElement(source, 'database').text = 'Unknown'\n",
        "    ET.SubElement(annotation, 'segmented').text = '0'\n",
        "    size = ET.SubElement(annotation, 'size')\n",
        "    ET.SubElement(size, 'width').text = str(df['heights'].iloc[i])\n",
        "    ET.SubElement(size, 'height').text = str(df['width'].iloc[i])\n",
        "    ET.SubElement(size, 'depth').text = str(3)\n",
        "    for idx in tmp.index:\n",
        "        ob = ET.SubElement(annotation, 'object')\n",
        "        ET.SubElement(ob, 'name').text = 'hardhat'\n",
        "        ET.SubElement(ob, 'pose').text = 'Unspecified'\n",
        "        ET.SubElement(ob, 'truncated').text = '0'\n",
        "        ET.SubElement(ob, 'difficult').text = '0'\n",
        "        bbox = ET.SubElement(ob, 'bndbox')\n",
        "        ET.SubElement(bbox, 'xmin').text = str(df['XMin'].iloc[idx])\n",
        "        ET.SubElement(bbox, 'ymin').text = str(df['YMin'].iloc[idx])\n",
        "        ET.SubElement(bbox, 'xmax').text = str(df['XMax'].iloc[idx])\n",
        "        ET.SubElement(bbox, 'ymax').text = str(df['YMax'].iloc[idx])\n",
        "\n",
        "        fileName = str(df['ImageID'].iloc[idx])\n",
        "    tree = ET.ElementTree(annotation)\n",
        "    tree.write(fileName + \".xml\", encoding='utf8')\n"
      ],
      "execution_count": null,
      "outputs": []
    },
    {
      "cell_type": "code",
      "metadata": {
        "id": "1JMf9wf2o1YQ"
      },
      "source": [
        ""
      ],
      "execution_count": null,
      "outputs": []
    }
  ]
}