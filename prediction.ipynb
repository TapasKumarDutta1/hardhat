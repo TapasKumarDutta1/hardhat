{
  "nbformat": 4,
  "nbformat_minor": 0,
  "metadata": {
    "colab": {
      "name": "prediction.ipynb",
      "provenance": [],
      "authorship_tag": "ABX9TyO4EdVzBsIcawVxqBqCGJkj",
      "include_colab_link": true
    },
    "kernelspec": {
      "name": "python3",
      "display_name": "Python 3"
    },
    "language_info": {
      "name": "python"
    }
  },
  "cells": [
    {
      "cell_type": "markdown",
      "metadata": {
        "id": "view-in-github",
        "colab_type": "text"
      },
      "source": [
        "<a href=\"https://colab.research.google.com/github/greyhound101/hardhat/blob/main/prediction.ipynb\" target=\"_parent\"><img src=\"https://colab.research.google.com/assets/colab-badge.svg\" alt=\"Open In Colab\"/></a>"
      ]
    },
    {
      "cell_type": "code",
      "metadata": {
        "id": "thV1pKfhoLaX"
      },
      "source": [
        "import pandas as pd\n",
        "df=pd.read_csv('../input/notebook9cb89c35ab/predicted.csv')\n",
        "df.head()"
      ],
      "execution_count": null,
      "outputs": []
    },
    {
      "cell_type": "code",
      "metadata": {
        "id": "0O82cvBroIuJ"
      },
      "source": [
        "df[['XMin','XMax','YMin','YMax']]=df[['XMin','XMax','YMin','YMax']].astype('int')\n",
        "df.head()"
      ],
      "execution_count": null,
      "outputs": []
    },
    {
      "cell_type": "code",
      "metadata": {
        "id": "_nHASxrXoI0k"
      },
      "source": [
        "from tqdm import tqdm\n",
        "import cv2\n",
        "import numpy as np\n",
        "total=[]\n",
        "for i in tqdm(df['ImageID'].unique()):\n",
        "    img=cv2.imread('../input/hardhat-total/hardhat/hardhat_'+str(i)+'.jpg')\n",
        "    for tmp in df.loc[df['ImageID']==i].iterrows():\n",
        "        tmp=tmp[1]\n",
        "        conf=tmp['Conf']\n",
        "        if tmp['Conf']>0:\n",
        "            color=(np.mean(img[int(tmp['YMin']):int(tmp['YMax']),int(tmp['XMin']):int(tmp['XMax']),0]),np.mean(img[int(tmp['YMin']):int(tmp['YMax']),int(tmp['XMin']):int(tmp['XMax']),1]),np.mean(img[int(tmp['YMin']):int(tmp['YMax']),int(tmp['XMin']):int(tmp['XMax']),2]))\n",
        "            p1,p2=(int(tmp['XMin']),int(tmp['YMin'])),(int(tmp['XMax']),int(tmp['YMax']))\n",
        "            img=cv2.rectangle(img,p1,p2,color,5)\n",
        "            img=cv2.putText(img,str(conf),(p1[0],p2[1] - 2),0,5/3,[225, 255, 255], thickness=5, lineType=cv2.LINE_AA)\n",
        "#     total.append(img)\n",
        "    cv2.imwrite(str(i)+'.jpg',img)\n"
      ],
      "execution_count": null,
      "outputs": []
    },
    {
      "cell_type": "code",
      "metadata": {
        "id": "1JMf9wf2o1YQ"
      },
      "source": [
        ""
      ],
      "execution_count": null,
      "outputs": []
    }
  ]
}