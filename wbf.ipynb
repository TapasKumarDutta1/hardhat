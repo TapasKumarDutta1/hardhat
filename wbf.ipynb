{
  "nbformat": 4,
  "nbformat_minor": 0,
  "metadata": {
    "colab": {
      "name": "wbf.ipynb",
      "provenance": [],
      "authorship_tag": "ABX9TyMyCZfp8YtL5pOb2iAwkpuM",
      "include_colab_link": true
    },
    "kernelspec": {
      "name": "python3",
      "display_name": "Python 3"
    },
    "language_info": {
      "name": "python"
    }
  },
  "cells": [
    {
      "cell_type": "markdown",
      "metadata": {
        "id": "view-in-github",
        "colab_type": "text"
      },
      "source": [
        "<a href=\"https://colab.research.google.com/github/greyhound101/hardhat/blob/main/wbf.ipynb\" target=\"_parent\"><img src=\"https://colab.research.google.com/assets/colab-badge.svg\" alt=\"Open In Colab\"/></a>"
      ]
    },
    {
      "cell_type": "code",
      "metadata": {
        "id": "thV1pKfhoLaX"
      },
      "source": [
        "!pip install --no-deps '../input/weightedboxesfusion/' > /dev/null"
      ],
      "execution_count": null,
      "outputs": []
    },
    {
      "cell_type": "code",
      "metadata": {
        "id": "0O82cvBroIuJ"
      },
      "source": [
        "from ensemble_boxes import *\n",
        "import torch\n",
        "device = torch.device('cpu')\n",
        "\n",
        "def make_ensemble_predictions(images):\n",
        "    images = list(image.to(device) for image in images)    \n",
        "    result = []\n",
        "    for net in models:\n",
        "        outputs = net(images)\n",
        "        result.append(outputs)\n",
        "    return result\n"
      ],
      "execution_count": null,
      "outputs": []
    },
    {
      "cell_type": "code",
      "metadata": {
        "id": "_nHASxrXoI0k"
      },
      "source": [
        "import glob\n",
        "ids=[]\n",
        "for i in glob.glob('../input/original1/yolov5/hard_hat_workers*_1last_0.npy'):\n",
        "    ids.append(i.split('/')[-1].split('_')[2][7:])\n"
      ],
      "execution_count": null,
      "outputs": []
    },
    {
      "cell_type": "code",
      "metadata": {
        "id": "T_HZgdy53MhI",
        "colab": {
          "base_uri": "https://localhost:8080/"
        },
        "outputId": "514c2581-3034-479a-eb3a-0572c8b27f72"
      },
      "source": [
        "from tqdm import tqdm\n",
        "import glob\n",
        "import numpy as np\n",
        "original=[]\n",
        "flipped=[]\n",
        "for o in tqdm(ids, position=0, leave=True):\n",
        "#     o=o.split('.')[0][16:]\n",
        "    org=np.load('/kaggle/input/original1/yolov5/hard_hat_workers'+str(o)+'_1last_0.npy',allow_pickle=True)\n",
        "    flp=np.load('/kaggle/input/flipped/yolov5/hard_hat_workers'+str(o)+'_1last_0.npy',allow_pickle=True)\n",
        "    original.append({'boxes':[],'scores':[],'labels':[]})\n",
        "    flipped.append({'boxes':[],'scores':[],'labels':[]})\n",
        "    for i in org:\n",
        "      try:\n",
        "        original[-1]['boxes'].append(i['boxes'])\n",
        "        original[-1]['scores'].append(float(i['scores'].split(' ')[-1]))\n",
        "        original[-1]['labels'].append(0)\n",
        "      except:\n",
        "        pass\n",
        "    original[-1]['boxes']=np.asarray(original[-1]['boxes'])\n",
        "    original[-1]['scores']=np.asarray(original[-1]['scores'])\n",
        "    original[-1]['labels']=np.asarray(original[-1]['labels'])\n",
        "    for i in flp:\n",
        "      try:\n",
        "        flipped[-1]['boxes'].append(i['boxes'])\n",
        "        flipped[-1]['scores'].append(float(i['scores'].split(' ')[-1]))\n",
        "        flipped[-1]['labels'].append(0)\n",
        "      except:\n",
        "        pass\n",
        "    flipped[-1]['boxes']=np.asarray(flipped[-1]['boxes'])\n",
        "    flipped[-1]['scores']=np.asarray(flipped[-1]['scores'])\n",
        "    flipped[-1]['labels']=np.asarray(flipped[-1]['labels'])\n"
      ],
      "execution_count": null,
      "outputs": [
        {
          "output_type": "stream",
          "text": [
            "/content/yolov5\n"
          ],
          "name": "stdout"
        }
      ]
    },
    {
      "cell_type": "code",
      "metadata": {
        "id": "rksMRVBEbAqc"
      },
      "source": [
        "from tqdm import tqdm\n",
        "import glob\n",
        "import numpy as np\n",
        "original1=[]\n",
        "flipped1=[]\n",
        "for o in tqdm(ids, position=0, leave=True):\n",
        "#     o=o.split('.')[0][16:]\n",
        "    org=np.load('/kaggle/input/original1/yolov5/hard_hat_workers'+str(o)+'_1last_2.npy',allow_pickle=True)\n",
        "    flp=np.load('/kaggle/input/flipped/yolov5/hard_hat_workers'+str(o)+'_1last_2.npy',allow_pickle=True)\n",
        "    original1.append({'boxes':[],'scores':[],'labels':[]})\n",
        "    flipped1.append({'boxes':[],'scores':[],'labels':[]})\n",
        "    for i in org:\n",
        "      try:\n",
        "        original1[-1]['boxes'].append(i['boxes'])\n",
        "        original1[-1]['scores'].append(float(i['scores'].split(' ')[-1]))\n",
        "        original1[-1]['labels'].append(0)\n",
        "      except:\n",
        "        pass\n",
        "    original1[-1]['boxes']=np.asarray(original1[-1]['boxes'])\n",
        "    original1[-1]['scores']=np.asarray(original1[-1]['scores'])\n",
        "    original1[-1]['labels']=np.asarray(original1[-1]['labels'])\n",
        "    for i in flp:\n",
        "      try:\n",
        "        flipped1[-1]['boxes'].append(i['boxes'])\n",
        "        flipped1[-1]['scores'].append(float(i['scores'].split(' ')[-1]))\n",
        "        flipped1[-1]['labels'].append(0)\n",
        "      except:\n",
        "        pass\n",
        "    flipped1[-1]['boxes']=np.asarray(flipped1[-1]['boxes'])\n",
        "    flipped1[-1]['scores']=np.asarray(flipped1[-1]['scores'])\n",
        "    flipped1[-1]['labels']=np.asarray(flipped1[-1]['labels'])\n"
      ],
      "execution_count": null,
      "outputs": []
    },
    {
      "cell_type": "code",
      "metadata": {
        "id": "CxSmMATc3LiF"
      },
      "source": [
        "from tqdm import tqdm\n",
        "import glob\n",
        "import numpy as np\n",
        "original2=[]\n",
        "flipped2=[]\n",
        "for o in tqdm(ids, position=0, leave=True):\n",
        "#     o=o.split('.')[0][16:]\n",
        "    org=np.load('/kaggle/input/original1/yolov5/hard_hat_workers'+str(o)+'_1last_3.npy',allow_pickle=True)\n",
        "    flp=np.load('/kaggle/input/flipped/yolov5/hard_hat_workers'+str(o)+'_1last_3.npy',allow_pickle=True)\n",
        "    original2.append({'boxes':[],'scores':[],'labels':[]})\n",
        "    flipped2.append({'boxes':[],'scores':[],'labels':[]})\n",
        "    for i in org:\n",
        "      try:\n",
        "        original2[-1]['boxes'].append(i['boxes'])\n",
        "        original2[-1]['scores'].append(float(i['scores'].split(' ')[-1]))\n",
        "        original2[-1]['labels'].append(0)\n",
        "      except:\n",
        "        pass\n",
        "    original2[-1]['boxes']=np.asarray(original2[-1]['boxes'])\n",
        "    original2[-1]['scores']=np.asarray(original2[-1]['scores'])\n",
        "    original2[-1]['labels']=np.asarray(original2[-1]['labels'])\n",
        "    for i in flp:\n",
        "      try:\n",
        "        flipped2[-1]['boxes'].append(i['boxes'])\n",
        "        flipped2[-1]['scores'].append(float(i['scores'].split(' ')[-1]))\n",
        "        flipped2[-1]['labels'].append(0)\n",
        "      except:\n",
        "        pass\n",
        "    flipped2[-1]['boxes']=np.asarray(flipped2[-1]['boxes'])\n",
        "    flipped2[-1]['scores']=np.asarray(flipped2[-1]['scores'])\n",
        "    flipped2[-1]['labels']=np.asarray(flipped2[-1]['labels'])\n"
      ],
      "execution_count": null,
      "outputs": []
    },
    {
      "cell_type": "code",
      "metadata": {
        "id": "4gf6qzDEogei"
      },
      "source": [
        "from tqdm import tqdm\n",
        "import glob\n",
        "import numpy as np\n",
        "original3=[]\n",
        "flipped3=[]\n",
        "for o in tqdm(ids, position=0, leave=True):\n",
        "#     o=o.split('.')[0][16:]\n",
        "    org=np.load('/kaggle/input/original1/yolov5/hard_hat_workers'+str(o)+'_1last_4.npy',allow_pickle=True)\n",
        "    flp=np.load('/kaggle/input/flipped/yolov5/hard_hat_workers'+str(o)+'_1last_4.npy',allow_pickle=True)\n",
        "    original3.append({'boxes':[],'scores':[],'labels':[]})\n",
        "    flipped3.append({'boxes':[],'scores':[],'labels':[]})\n",
        "    for i in org:\n",
        "      try:\n",
        "        original3[-1]['boxes'].append(i['boxes'])\n",
        "        original3[-1]['scores'].append(float(i['scores'].split(' ')[-1]))\n",
        "        original3[-1]['labels'].append(0)\n",
        "      except:\n",
        "        pass\n",
        "    original3[-1]['boxes']=np.asarray(original3[-1]['boxes'])\n",
        "    original3[-1]['scores']=np.asarray(original3[-1]['scores'])\n",
        "    original3[-1]['labels']=np.asarray(original3[-1]['labels'])\n",
        "    for i in flp:\n",
        "      try:\n",
        "        flipped2[-1]['boxes'].append(i['boxes'])\n",
        "        flipped3[-1]['scores'].append(float(i['scores'].split(' ')[-1]))\n",
        "        flipped3[-1]['labels'].append(0)\n",
        "      except:\n",
        "        pass\n",
        "    flipped3[-1]['boxes']=np.asarray(flipped3[-1]['boxes'])\n",
        "    flipped3[-1]['scores']=np.asarray(flipped3[-1]['scores'])\n",
        "    flipped3[-1]['labels']=np.asarray(flipped3[-1]['labels'])\n"
      ],
      "execution_count": null,
      "outputs": []
    },
    {
      "cell_type": "code",
      "metadata": {
        "id": "rOfkCd8RoGRg"
      },
      "source": [
        "def run_wbf(predictions, image_index, image_size=512, iou_thr=0.55, skip_box_thr=0.7, weights=None):\n",
        "    boxes = [prediction[image_index]['boxes']/(image_size-1) for prediction in predictions]\n",
        "    scores = [prediction[image_index]['scores'] for prediction in predictions]\n",
        "    labels = [np.ones(prediction[image_index]['scores'].shape[0]) for prediction in predictions]\n",
        "    boxes, scores, labels = weighted_boxes_fusion(boxes, scores, labels, weights=None, iou_thr=iou_thr, skip_box_thr=skip_box_thr)\n",
        "    boxes = boxes*(image_size-1)\n",
        "    return boxes, scores, labels\n"
      ],
      "execution_count": null,
      "outputs": []
    },
    {
      "cell_type": "code",
      "metadata": {
        "id": "rBg5hBmLoi4I"
      },
      "source": [
        "for en,(a,b,c,d,e,f,g,h,o) in enumerate(zip(original,flipped,original1,flipped1,original2,flipped2,original3,flipped3,ids)):\n",
        "#     o=o\n",
        "    try:\n",
        "        boxes, scores, labels = run_wbf([[a],[b],[c],[d],[e],[f],[g],[h]], image_index=0)\n",
        "        np.save(o+'.npy',np.hstack((boxes,np.expand_dims(scores,0).reshape(-1,1))))\n",
        "    except ValueError:\n",
        "        np.save(o+'.npy',[])\n"
      ],
      "execution_count": null,
      "outputs": []
    },
    {
      "cell_type": "code",
      "metadata": {
        "id": "A5glEpDSoFHA"
      },
      "source": [
        "total=[]\n",
        "for o in ids:\n",
        "#     o=o.split('.')[0][16:]\n",
        "    ld=np.load(o+'.npy')\n",
        "    for i in ld:\n",
        "        total.append([o,0,i[-1],i[0],i[2],i[1],i[3]])\n",
        "    if len(ld)==0:\n",
        "        total.append([o,0,0,0,0,0,0])\n",
        "        print(o)\n"
      ],
      "execution_count": null,
      "outputs": []
    },
    {
      "cell_type": "code",
      "metadata": {
        "id": "_V_8wOLAo1bS"
      },
      "source": [
        "import pandas as pd\n",
        "df=pd.DataFrame(total)\n",
        "df.columns=['ImageID', 'LabelName', 'Conf', 'XMin', 'XMax', 'YMin', 'YMax']\n",
        "df.to_csv('predicted.csv')"
      ],
      "execution_count": null,
      "outputs": []
    },
    {
      "cell_type": "code",
      "metadata": {
        "id": "1JMf9wf2o1YQ"
      },
      "source": [
        ""
      ],
      "execution_count": null,
      "outputs": []
    }
  ]
}